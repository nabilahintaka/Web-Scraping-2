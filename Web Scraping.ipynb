{
 "cells": [
  {
   "cell_type": "code",
   "execution_count": 29,
   "metadata": {},
   "outputs": [],
   "source": [
    "# Import Library\n",
    "from selenium import webdriver # Ekstract Data\n",
    "from bs4 import BeautifulSoup # Memparsing / Memecahkan data\n",
    "import time # Untuk memberi jeda pada running time\n",
    "import pandas as pd # Bikin datanya jadi table/dataframe\n"
   ]
  },
  {
   "cell_type": "code",
   "execution_count": 37,
   "metadata": {},
   "outputs": [],
   "source": [
    "# Call WebDriver\n",
    "driver = webdriver.Chrome() # chrome\n"
   ]
  },
  {
   "cell_type": "code",
   "execution_count": null,
   "metadata": {},
   "outputs": [],
   "source": [
    "#Brand\n",
    "#<a class=\"jsx-1490313638 product-brand\" href=\"https://studio.femaledaily.com/detail/shine-addict-luxcrime?type=configurable\">LUXCRIME</a>\n",
    "\n",
    "#Nama Produk\n",
    "#<a aria-label=\"2in1 Breathable Color Stay: Foundation + Concealer\" class=\"jsx-1490313638 product-title\" href=\"https://studio.femaledaily.com/detail/2in1-breathable-color-stay-foundation-concealer?type=configurable\">2in1 Breathable Color Stay: Foundation + Concealer</a>\n",
    "\n",
    "#Harga Produk\n",
    "#<p class=\"jsx-1490313638 reguler\">Rp 109.850</p>\n",
    "\n",
    "#Pic\n",
    "#<img alt=\"2in1 Breathable Color Stay: Foundation + Concealer\" src=\"/_next/image?url=https%3A%2F%2Fmagento.femaledaily.com%2Fmedia%2Fcatalog%2Fproduct%2Fw%2F0%2Fw03.png&amp;w=3840&amp;q=75\" decoding=\"async\" data-nimg=\"fill\" class=\"jsx-1490313638\" style=\"position: absolute; inset: 0px; box-sizing: border-box; padding: 0px; border: none; margin: auto; display: block; width: 0px; height: 0px; min-width: 100%; max-width: 100%; min-height: 100%; max-height: 100%; object-fit: cover;\" sizes=\"100vw\" srcset=\"/_next/image?url=https%3A%2F%2Fmagento.femaledaily.com%2Fmedia%2Fcatalog%2Fproduct%2Fw%2F0%2Fw03.png&amp;w=640&amp;q=75 640w, /_next/image?url=https%3A%2F%2Fmagento.femaledaily.com%2Fmedia%2Fcatalog%2Fproduct%2Fw%2F0%2Fw03.png&amp;w=750&amp;q=75 750w, /_next/image?url=https%3A%2F%2Fmagento.femaledaily.com%2Fmedia%2Fcatalog%2Fproduct%2Fw%2F0%2Fw03.png&amp;w=828&amp;q=75 828w, /_next/image?url=https%3A%2F%2Fmagento.femaledaily.com%2Fmedia%2Fcatalog%2Fproduct%2Fw%2F0%2Fw03.png&amp;w=1080&amp;q=75 1080w, /_next/image?url=https%3A%2F%2Fmagento.femaledaily.com%2Fmedia%2Fcatalog%2Fproduct%2Fw%2F0%2Fw03.png&amp;w=1200&amp;q=75 1200w, /_next/image?url=https%3A%2F%2Fmagento.femaledaily.com%2Fmedia%2Fcatalog%2Fproduct%2Fw%2F0%2Fw03.png&amp;w=1920&amp;q=75 1920w, /_next/image?url=https%3A%2F%2Fmagento.femaledaily.com%2Fmedia%2Fcatalog%2Fproduct%2Fw%2F0%2Fw03.png&amp;w=2048&amp;q=75 2048w, /_next/image?url=https%3A%2F%2Fmagento.femaledaily.com%2Fmedia%2Fcatalog%2Fproduct%2Fw%2F0%2Fw03.png&amp;w=3840&amp;q=75 3840w\">"
   ]
  },
  {
   "cell_type": "markdown",
   "metadata": {},
   "source": [
    "Create List lalu mengakses multiple page dan mengisinya ke list yuang sudah dibuat"
   ]
  },
  {
   "cell_type": "code",
   "execution_count": 46,
   "metadata": {},
   "outputs": [],
   "source": [
    "#Create List\n",
    "product_brand = []\n",
    "product_name = []\n",
    "price = []\n",
    "pic = []\n",
    "\n",
    "#Akses multiple page\n",
    "for page in range(1,7):\n",
    "    page_url = f'https://studio.femaledaily.com/category/shop-all/make-up?page={page}&sort=&category=&brand=&min_price=&max_price=&sale=0&query='\n",
    "    driver.get(page_url) # Manggil Data  \n",
    "    time.sleep(10) # memberi jeda 5 detik sebelum pindah halaman \n",
    "    html = driver.page_source\n",
    "    soup = BeautifulSoup(html, 'html.parser')\n",
    "\n",
    "    #isi data dalam wadah\n",
    "    product_brand += [brand.text for brand in soup.find_all(\"a\",{\"class\":\"jsx-1490313638 product-brand\"})]\n",
    "    product_name += [product.text for product in soup.find_all(\"a\",{\"class\":\"jsx-1490313638 product-title\"})]\n",
    "    price += [harga.text for harga in soup.find_all(\"p\",{\"class\":\"jsx-1490313638 reguler\"})]\n",
    "    pic += [picture['src'] for picture in soup.find_all(\"img\",{\"class\":\"jsx-1490313638\"})]\n"
   ]
  },
  {
   "cell_type": "markdown",
   "metadata": {},
   "source": [
    "Mengecek column length dari tiap list"
   ]
  },
  {
   "cell_type": "code",
   "execution_count": 47,
   "metadata": {},
   "outputs": [
    {
     "data": {
      "text/plain": [
       "(69, 69, 69, 69)"
      ]
     },
     "execution_count": 47,
     "metadata": {},
     "output_type": "execute_result"
    }
   ],
   "source": [
    "# Cek Length Column\n",
    "len(product_brand),len(product_name), len(price), len(pic)"
   ]
  },
  {
   "cell_type": "markdown",
   "metadata": {},
   "source": [
    "Membuat table dari list yang sudah dibuat"
   ]
  },
  {
   "cell_type": "code",
   "execution_count": 48,
   "metadata": {},
   "outputs": [
    {
     "data": {
      "text/html": [
       "<div>\n",
       "<style scoped>\n",
       "    .dataframe tbody tr th:only-of-type {\n",
       "        vertical-align: middle;\n",
       "    }\n",
       "\n",
       "    .dataframe tbody tr th {\n",
       "        vertical-align: top;\n",
       "    }\n",
       "\n",
       "    .dataframe thead th {\n",
       "        text-align: right;\n",
       "    }\n",
       "</style>\n",
       "<table border=\"1\" class=\"dataframe\">\n",
       "  <thead>\n",
       "    <tr style=\"text-align: right;\">\n",
       "      <th></th>\n",
       "      <th>Nama Brand</th>\n",
       "      <th>Nama Produk</th>\n",
       "      <th>Harga</th>\n",
       "      <th>Gambar</th>\n",
       "    </tr>\n",
       "  </thead>\n",
       "  <tbody>\n",
       "    <tr>\n",
       "      <th>0</th>\n",
       "      <td>GLXSSY BEAUTE</td>\n",
       "      <td>Honey Silk Gloss</td>\n",
       "      <td>Rp 103.500</td>\n",
       "      <td>/_next/image?url=https%3A%2F%2Fmagento.femaled...</td>\n",
       "    </tr>\n",
       "    <tr>\n",
       "      <th>1</th>\n",
       "      <td>GLXSSY BEAUTE</td>\n",
       "      <td>Souffle Satin Stain</td>\n",
       "      <td>Rp 98.100</td>\n",
       "      <td>/_next/image?url=https%3A%2F%2Fmagento.femaled...</td>\n",
       "    </tr>\n",
       "    <tr>\n",
       "      <th>2</th>\n",
       "      <td>ESQA</td>\n",
       "      <td>Flawless Cushion Serum SPF 50+ PA+++ Satin</td>\n",
       "      <td>Rp 156.000</td>\n",
       "      <td>/_next/image?url=https%3A%2F%2Fmagento.femaled...</td>\n",
       "    </tr>\n",
       "    <tr>\n",
       "      <th>3</th>\n",
       "      <td>ESQA</td>\n",
       "      <td>Minimalist Blurring Serum Skin Tint SPF 35 PA++</td>\n",
       "      <td>Rp 118.300</td>\n",
       "      <td>/_next/image?url=https%3A%2F%2Fmagento.femaled...</td>\n",
       "    </tr>\n",
       "    <tr>\n",
       "      <th>4</th>\n",
       "      <td>LUXCRIME</td>\n",
       "      <td>Instant Cover Hydralight Concealer</td>\n",
       "      <td>Rp 75.650</td>\n",
       "      <td>/_next/image?url=https%3A%2F%2Fmagento.femaled...</td>\n",
       "    </tr>\n",
       "    <tr>\n",
       "      <th>...</th>\n",
       "      <td>...</td>\n",
       "      <td>...</td>\n",
       "      <td>...</td>\n",
       "      <td>...</td>\n",
       "    </tr>\n",
       "    <tr>\n",
       "      <th>64</th>\n",
       "      <td>SASC</td>\n",
       "      <td>Effortless Brow Definer</td>\n",
       "      <td>Rp 119.500</td>\n",
       "      <td>/_next/image?url=https%3A%2F%2Fmagento.femaled...</td>\n",
       "    </tr>\n",
       "    <tr>\n",
       "      <th>65</th>\n",
       "      <td>SASC</td>\n",
       "      <td>Stay Perfect Liquid Blush</td>\n",
       "      <td>Rp 139.500</td>\n",
       "      <td>data:image/gif;base64,R0lGODlhAQABAIAAAAAAAP//...</td>\n",
       "    </tr>\n",
       "    <tr>\n",
       "      <th>66</th>\n",
       "      <td>LUXCRIME</td>\n",
       "      <td>Double Duty Mascara</td>\n",
       "      <td>Rp 126.650</td>\n",
       "      <td>data:image/gif;base64,R0lGODlhAQABAIAAAAAAAP//...</td>\n",
       "    </tr>\n",
       "    <tr>\n",
       "      <th>67</th>\n",
       "      <td>LUXCRIME</td>\n",
       "      <td>Perfect Canvas Primer - Mattifying Poreless Pr...</td>\n",
       "      <td>Rp 84.150</td>\n",
       "      <td>data:image/gif;base64,R0lGODlhAQABAIAAAAAAAP//...</td>\n",
       "    </tr>\n",
       "    <tr>\n",
       "      <th>68</th>\n",
       "      <td>LUXCRIME</td>\n",
       "      <td>Perfect Canvas Primer - Hydro Blur Finish Primer</td>\n",
       "      <td>Rp 84.150</td>\n",
       "      <td>data:image/gif;base64,R0lGODlhAQABAIAAAAAAAP//...</td>\n",
       "    </tr>\n",
       "  </tbody>\n",
       "</table>\n",
       "<p>69 rows × 4 columns</p>\n",
       "</div>"
      ],
      "text/plain": [
       "       Nama Brand                                        Nama Produk  \\\n",
       "0   GLXSSY BEAUTE                                   Honey Silk Gloss   \n",
       "1   GLXSSY BEAUTE                                Souffle Satin Stain   \n",
       "2            ESQA         Flawless Cushion Serum SPF 50+ PA+++ Satin   \n",
       "3            ESQA    Minimalist Blurring Serum Skin Tint SPF 35 PA++   \n",
       "4        LUXCRIME                 Instant Cover Hydralight Concealer   \n",
       "..            ...                                                ...   \n",
       "64           SASC                            Effortless Brow Definer   \n",
       "65           SASC                          Stay Perfect Liquid Blush   \n",
       "66       LUXCRIME                                Double Duty Mascara   \n",
       "67       LUXCRIME  Perfect Canvas Primer - Mattifying Poreless Pr...   \n",
       "68       LUXCRIME   Perfect Canvas Primer - Hydro Blur Finish Primer   \n",
       "\n",
       "         Harga                                             Gambar  \n",
       "0   Rp 103.500  /_next/image?url=https%3A%2F%2Fmagento.femaled...  \n",
       "1    Rp 98.100  /_next/image?url=https%3A%2F%2Fmagento.femaled...  \n",
       "2   Rp 156.000  /_next/image?url=https%3A%2F%2Fmagento.femaled...  \n",
       "3   Rp 118.300  /_next/image?url=https%3A%2F%2Fmagento.femaled...  \n",
       "4    Rp 75.650  /_next/image?url=https%3A%2F%2Fmagento.femaled...  \n",
       "..         ...                                                ...  \n",
       "64  Rp 119.500  /_next/image?url=https%3A%2F%2Fmagento.femaled...  \n",
       "65  Rp 139.500  data:image/gif;base64,R0lGODlhAQABAIAAAAAAAP//...  \n",
       "66  Rp 126.650  data:image/gif;base64,R0lGODlhAQABAIAAAAAAAP//...  \n",
       "67   Rp 84.150  data:image/gif;base64,R0lGODlhAQABAIAAAAAAAP//...  \n",
       "68   Rp 84.150  data:image/gif;base64,R0lGODlhAQABAIAAAAAAAP//...  \n",
       "\n",
       "[69 rows x 4 columns]"
      ]
     },
     "execution_count": 48,
     "metadata": {},
     "output_type": "execute_result"
    }
   ],
   "source": [
    "#Create Table\n",
    "data_skincare = pd.DataFrame({\"Nama Brand\":product_brand,\n",
    "                            \"Nama Produk\":product_name,\n",
    "                            \"Harga\":price,\n",
    "                            \"Gambar\":pic})\n",
    "data_skincare"
   ]
  },
  {
   "cell_type": "markdown",
   "metadata": {},
   "source": [
    "Menghapus \"Rp\" dan \".\" pada kolom \"Harga\"\n",
    "\\D: Ini adalah ekspresi reguler (regex) yang berarti \"semua karakter yang bukan angka\" (non-digit).\n",
    "regex=True: Ini menunjukkan bahwa kita menggunakan ekspresi reguler (regex) dalam pencarian dan penggantian karakter. "
   ]
  },
  {
   "cell_type": "code",
   "execution_count": 49,
   "metadata": {},
   "outputs": [],
   "source": [
    "data_skincare['Harga'] = data_skincare['Harga'].str.replace('\\D', '', regex=True)"
   ]
  },
  {
   "cell_type": "markdown",
   "metadata": {},
   "source": [
    "Mengganti Tipe Data Object to Integer"
   ]
  },
  {
   "cell_type": "code",
   "execution_count": 50,
   "metadata": {},
   "outputs": [],
   "source": [
    "data_skincare['Harga'] = data_skincare['Harga'].astype(int)"
   ]
  },
  {
   "cell_type": "markdown",
   "metadata": {},
   "source": [
    "Cek 10 data teratas"
   ]
  },
  {
   "cell_type": "code",
   "execution_count": 51,
   "metadata": {},
   "outputs": [
    {
     "data": {
      "text/html": [
       "<div>\n",
       "<style scoped>\n",
       "    .dataframe tbody tr th:only-of-type {\n",
       "        vertical-align: middle;\n",
       "    }\n",
       "\n",
       "    .dataframe tbody tr th {\n",
       "        vertical-align: top;\n",
       "    }\n",
       "\n",
       "    .dataframe thead th {\n",
       "        text-align: right;\n",
       "    }\n",
       "</style>\n",
       "<table border=\"1\" class=\"dataframe\">\n",
       "  <thead>\n",
       "    <tr style=\"text-align: right;\">\n",
       "      <th></th>\n",
       "      <th>Nama Brand</th>\n",
       "      <th>Nama Produk</th>\n",
       "      <th>Harga</th>\n",
       "      <th>Gambar</th>\n",
       "    </tr>\n",
       "  </thead>\n",
       "  <tbody>\n",
       "    <tr>\n",
       "      <th>0</th>\n",
       "      <td>GLXSSY BEAUTE</td>\n",
       "      <td>Honey Silk Gloss</td>\n",
       "      <td>103500</td>\n",
       "      <td>/_next/image?url=https%3A%2F%2Fmagento.femaled...</td>\n",
       "    </tr>\n",
       "    <tr>\n",
       "      <th>1</th>\n",
       "      <td>GLXSSY BEAUTE</td>\n",
       "      <td>Souffle Satin Stain</td>\n",
       "      <td>98100</td>\n",
       "      <td>/_next/image?url=https%3A%2F%2Fmagento.femaled...</td>\n",
       "    </tr>\n",
       "    <tr>\n",
       "      <th>2</th>\n",
       "      <td>ESQA</td>\n",
       "      <td>Flawless Cushion Serum SPF 50+ PA+++ Satin</td>\n",
       "      <td>156000</td>\n",
       "      <td>/_next/image?url=https%3A%2F%2Fmagento.femaled...</td>\n",
       "    </tr>\n",
       "    <tr>\n",
       "      <th>3</th>\n",
       "      <td>ESQA</td>\n",
       "      <td>Minimalist Blurring Serum Skin Tint SPF 35 PA++</td>\n",
       "      <td>118300</td>\n",
       "      <td>/_next/image?url=https%3A%2F%2Fmagento.femaled...</td>\n",
       "    </tr>\n",
       "    <tr>\n",
       "      <th>4</th>\n",
       "      <td>LUXCRIME</td>\n",
       "      <td>Instant Cover Hydralight Concealer</td>\n",
       "      <td>75650</td>\n",
       "      <td>/_next/image?url=https%3A%2F%2Fmagento.femaled...</td>\n",
       "    </tr>\n",
       "    <tr>\n",
       "      <th>5</th>\n",
       "      <td>SOMETHINC</td>\n",
       "      <td>Ceraplump Tinted Lip Balm SPF25 PA++++</td>\n",
       "      <td>98000</td>\n",
       "      <td>/_next/image?url=https%3A%2F%2Fmagento.femaled...</td>\n",
       "    </tr>\n",
       "    <tr>\n",
       "      <th>6</th>\n",
       "      <td>SOMETHINC</td>\n",
       "      <td>The Marionette Eyeshadow Palette - Vol.2</td>\n",
       "      <td>149000</td>\n",
       "      <td>/_next/image?url=https%3A%2F%2Fmagento.femaled...</td>\n",
       "    </tr>\n",
       "    <tr>\n",
       "      <th>7</th>\n",
       "      <td>LUXCRIME</td>\n",
       "      <td>2in1 Breathable Color Stay: Foundation + Conce...</td>\n",
       "      <td>109850</td>\n",
       "      <td>data:image/gif;base64,R0lGODlhAQABAIAAAAAAAP//...</td>\n",
       "    </tr>\n",
       "    <tr>\n",
       "      <th>8</th>\n",
       "      <td>SOMETHINC</td>\n",
       "      <td>Copy Paste Tinted Sunscreen SPF 40 PA++++ 50ml</td>\n",
       "      <td>179000</td>\n",
       "      <td>data:image/gif;base64,R0lGODlhAQABAIAAAAAAAP//...</td>\n",
       "    </tr>\n",
       "    <tr>\n",
       "      <th>9</th>\n",
       "      <td>ROSE ALL DAY</td>\n",
       "      <td>The Powerpuff Girls Lip Sparkle</td>\n",
       "      <td>80100</td>\n",
       "      <td>data:image/gif;base64,R0lGODlhAQABAIAAAAAAAP//...</td>\n",
       "    </tr>\n",
       "  </tbody>\n",
       "</table>\n",
       "</div>"
      ],
      "text/plain": [
       "      Nama Brand                                        Nama Produk   Harga  \\\n",
       "0  GLXSSY BEAUTE                                   Honey Silk Gloss  103500   \n",
       "1  GLXSSY BEAUTE                                Souffle Satin Stain   98100   \n",
       "2           ESQA         Flawless Cushion Serum SPF 50+ PA+++ Satin  156000   \n",
       "3           ESQA    Minimalist Blurring Serum Skin Tint SPF 35 PA++  118300   \n",
       "4       LUXCRIME                 Instant Cover Hydralight Concealer   75650   \n",
       "5      SOMETHINC             Ceraplump Tinted Lip Balm SPF25 PA++++   98000   \n",
       "6      SOMETHINC           The Marionette Eyeshadow Palette - Vol.2  149000   \n",
       "7       LUXCRIME  2in1 Breathable Color Stay: Foundation + Conce...  109850   \n",
       "8      SOMETHINC     Copy Paste Tinted Sunscreen SPF 40 PA++++ 50ml  179000   \n",
       "9   ROSE ALL DAY                    The Powerpuff Girls Lip Sparkle   80100   \n",
       "\n",
       "                                              Gambar  \n",
       "0  /_next/image?url=https%3A%2F%2Fmagento.femaled...  \n",
       "1  /_next/image?url=https%3A%2F%2Fmagento.femaled...  \n",
       "2  /_next/image?url=https%3A%2F%2Fmagento.femaled...  \n",
       "3  /_next/image?url=https%3A%2F%2Fmagento.femaled...  \n",
       "4  /_next/image?url=https%3A%2F%2Fmagento.femaled...  \n",
       "5  /_next/image?url=https%3A%2F%2Fmagento.femaled...  \n",
       "6  /_next/image?url=https%3A%2F%2Fmagento.femaled...  \n",
       "7  data:image/gif;base64,R0lGODlhAQABAIAAAAAAAP//...  \n",
       "8  data:image/gif;base64,R0lGODlhAQABAIAAAAAAAP//...  \n",
       "9  data:image/gif;base64,R0lGODlhAQABAIAAAAAAAP//...  "
      ]
     },
     "execution_count": 51,
     "metadata": {},
     "output_type": "execute_result"
    }
   ],
   "source": [
    "data_skincare.head(10)"
   ]
  },
  {
   "cell_type": "markdown",
   "metadata": {},
   "source": [
    "Cek informasi data"
   ]
  },
  {
   "cell_type": "code",
   "execution_count": 52,
   "metadata": {},
   "outputs": [
    {
     "name": "stdout",
     "output_type": "stream",
     "text": [
      "<class 'pandas.core.frame.DataFrame'>\n",
      "RangeIndex: 69 entries, 0 to 68\n",
      "Data columns (total 4 columns):\n",
      " #   Column       Non-Null Count  Dtype \n",
      "---  ------       --------------  ----- \n",
      " 0   Nama Brand   69 non-null     object\n",
      " 1   Nama Produk  69 non-null     object\n",
      " 2   Harga        69 non-null     int64 \n",
      " 3   Gambar       69 non-null     object\n",
      "dtypes: int64(1), object(3)\n",
      "memory usage: 2.3+ KB\n"
     ]
    }
   ],
   "source": [
    "data_skincare.info()"
   ]
  },
  {
   "cell_type": "markdown",
   "metadata": {},
   "source": [
    "Simpan hasil data ke .csv"
   ]
  },
  {
   "cell_type": "code",
   "execution_count": 45,
   "metadata": {},
   "outputs": [],
   "source": [
    "data_skincare.to_csv('data_skincare.csv', index=False)"
   ]
  }
 ],
 "metadata": {
  "kernelspec": {
   "display_name": "Python 3",
   "language": "python",
   "name": "python3"
  },
  "language_info": {
   "codemirror_mode": {
    "name": "ipython",
    "version": 3
   },
   "file_extension": ".py",
   "mimetype": "text/x-python",
   "name": "python",
   "nbconvert_exporter": "python",
   "pygments_lexer": "ipython3",
   "version": "3.11.9"
  }
 },
 "nbformat": 4,
 "nbformat_minor": 2
}
